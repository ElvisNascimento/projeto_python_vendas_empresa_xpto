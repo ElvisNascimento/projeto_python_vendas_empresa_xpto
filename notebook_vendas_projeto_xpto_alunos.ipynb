{
 "cells": [
  {
   "cell_type": "markdown",
   "id": "bd542bad",
   "metadata": {},
   "source": [
    "### 📦 Briefing do Projeto – Vendas XPTO\n",
    "\n",
    "#### 🧩 Cenário\n",
    "A empresa XPTO está em expansão e deseja modernizar suas decisões comerciais com base em dados.\n",
    "\n",
    "O departamento de vendas forneceu dois arquivos para a equipe de dados:\n",
    "- `base_vendas.csv`: com as vendas realizadas.\n",
    "- `aumento.csv`: com os percentuais de aumento dos produtos por categoria.\n",
    "\n",
    "#### 🎯 Objetivos do Projeto\n",
    "1. Aplicar os percentuais de acréscimo às vendas e criar uma nova coluna com o valor ajustado.\n",
    "2. Realizar um comparativo por categoria (antes e depois do acréscimo).\n",
    "3. Calcular a comissão de cada vendedor (2,5% sobre o total vendido).\n",
    "4. Gerar gráficos para apoiar a análise (barras comparativas e comissão).\n",
    "5. Organizar os dados e simular o envio dos resultados por e-mail.\n",
    "\n",
    "#### 🔍 Situação Problema\n",
    "\n",
    "A empresa XPTO forneceu dois arquivos CSV:\n",
    "\n",
    "- `base_vendas.csv`: registros das vendas realizadas.\n",
    "- `aumento.csv`: percentuais de aumento por categoria de produto.\n",
    "\n",
    "Sua missão:\n",
    "1. Aplicar os percentuais de aumento aos dados de venda.\n",
    "2. Calcular a comissão dos vendedores (2,5%).\n",
    "3. Realizar análises agregadas por categoria e por vendedor.\n",
    "4. Gerar gráficos comparativos.\n",
    "5. Responder o Desafio.\n",
    "\n",
    "\n",
    "#### 💡 O que se espera de você?\n",
    "- Que organize os dados de forma clara e limpa;\n",
    "- Aplique os cálculos e gere as visualizações corretamente;\n",
    "- Responda aos desafios e complete os blocos de código propostos.\n",
    "\n",
    "\n",
    "#### Esse projeto é um ótimo exemplo de como Python pode ser usado para automatizar análises comerciais reais. 😉\n",
    "---"
   ]
  },
  {
   "cell_type": "markdown",
   "id": "d178570d",
   "metadata": {},
   "source": [
    "### Etapa 1: Instalação de bibliotecas\n",
    "\n",
    "Execute o código abaixo para instalar a biblioteca `chardet` se necessário ou repita o processo para as demais bibliotecas."
   ]
  },
  {
   "cell_type": "code",
   "execution_count": null,
   "id": "0a38829e",
   "metadata": {},
   "outputs": [],
   "source": [
    "# !pip install chardet"
   ]
  },
  {
   "cell_type": "markdown",
   "id": "c9b4ea0c",
   "metadata": {},
   "source": [
    "### Etapa 2: Importação de bibliotecas\n",
    "\n",
    "**Exercício:** Execute o código abaixo para importar as bibliotecas que serão usadas neste notebook."
   ]
  },
  {
   "cell_type": "code",
   "execution_count": 22,
   "id": "c0d7975c",
   "metadata": {},
   "outputs": [],
   "source": [
    "import pandas as pd\n",
    "import numpy as np\n",
    "import chardet\n",
    "import matplotlib.pyplot as plt\n",
    "import seaborn as sns\n"
   ]
  },
  {
   "cell_type": "markdown",
   "id": "1c4e413b",
   "metadata": {},
   "source": [
    "### Etapa 3: Como descobrir encoding do arquivo CSV\n",
    "\n",
    "🚨 **Exercício:** Use a biblioteca `chardet` para descobrir o encoding do arquivo `base_vendas.csv` e `categorias_valores.csv`."
   ]
  },
  {
   "cell_type": "code",
   "execution_count": 2,
   "id": "a753ee2e",
   "metadata": {},
   "outputs": [
    {
     "name": "stdout",
     "output_type": "stream",
     "text": [
      "Encoding detectado: ISO-8859-1\n"
     ]
    }
   ],
   "source": [
    "rawdata = open('base_vendas.csv', 'rb').read()\n",
    "encoding = chardet.detect(rawdata)['encoding']\n",
    "print('Encoding detectado:', encoding)"
   ]
  },
  {
   "cell_type": "code",
   "execution_count": 3,
   "id": "2418d010",
   "metadata": {},
   "outputs": [
    {
     "name": "stdout",
     "output_type": "stream",
     "text": [
      "Encoding detectado: utf-8\n"
     ]
    }
   ],
   "source": [
    "rawdata = open('categorias_valores.csv', 'rb').read()\n",
    "encoding2 = chardet.detect(rawdata)['encoding']\n",
    "print('Encoding detectado:', encoding2)"
   ]
  },
  {
   "cell_type": "markdown",
   "id": "90d4cb6a",
   "metadata": {},
   "source": [
    "### ℹ️ Entendendo o que é *Encoding*\n",
    "\n",
    "Quando lemos arquivos `.csv`, precisamos informar ao Python **como os caracteres estão codificados** no arquivo. Essa codificação é chamada de **encoding**.\n",
    "\n",
    "📌 **Encoding** é o formato que traduz os textos em bytes para que possam ser armazenados em arquivos.\n",
    "\n",
    "Os encodings mais comuns são:\n",
    "\n",
    "- **UTF-8**: É o mais utilizado atualmente. Compatível com acentos, símbolos e idiomas diversos. É a codificação padrão na internet.\n",
    "- **ISO-8859-1** (ou Latin-1): Era muito usada em arquivos de sistemas antigos ou exportações do Excel em português. Também suporta acentos, mas com codificação diferente da UTF-8.\n",
    "\n",
    "⚠️ Se o encoding for informado errado, os dados podem aparecer com caracteres quebrados, como `Ã©` em vez de `é`.\n",
    "\n",
    "✅ Por isso usamos a biblioteca `chardet` para detectar automaticamente o encoding antes de carregar os dados com `pd.read_csv(...)`.\n",
    "\n",
    "Exemplo prático:\n",
    "```python\n",
    "df = pd.read_csv(\"base_vendas.csv\", encoding=\"ISO-8859-1\", sep=\";\")\n"
   ]
  },
  {
   "cell_type": "markdown",
   "id": "2eebff6c",
   "metadata": {},
   "source": [
    "### Etapa 3.1: Crie o dataframe com os arquivos csv.\n"
   ]
  },
  {
   "cell_type": "code",
   "execution_count": 4,
   "id": "9594bee8",
   "metadata": {},
   "outputs": [],
   "source": [
    "df_vendas = pd.read_csv('base_vendas.csv', encoding=\"ISO-8859-1\", sep=';')\n",
    "df_categorias = pd.read_csv('categorias_valores.csv', encoding='utf-8', sep=',')"
   ]
  },
  {
   "cell_type": "markdown",
   "id": "f3727fd5",
   "metadata": {},
   "source": [
    "### Etapa 4: Estrutura e Diagnóstico Inicial dos Dados (EDA)\n",
    "\n",
    "Antes de partirmos para a exploração gráfica, vamos entender a estrutura da base:"
   ]
  },
  {
   "cell_type": "code",
   "execution_count": 1,
   "id": "f531320d",
   "metadata": {},
   "outputs": [],
   "source": [
    "# Veja as primeiras linhas do dataframe de vendas\n"
   ]
  },
  {
   "cell_type": "code",
   "execution_count": 2,
   "id": "492a05d9",
   "metadata": {},
   "outputs": [],
   "source": [
    "# Veja as primeiras linhas do dataframe de categorias\n"
   ]
  },
  {
   "cell_type": "code",
   "execution_count": 3,
   "id": "64cb5e8d",
   "metadata": {},
   "outputs": [],
   "source": [
    "# Verifique os tipos de dados e colunas do dataframs de vendas\n"
   ]
  },
  {
   "cell_type": "code",
   "execution_count": 4,
   "id": "0e71d7b5",
   "metadata": {},
   "outputs": [],
   "source": [
    "# Verifique os tipos de dados e colunas do dataframe de categorias\n"
   ]
  },
  {
   "cell_type": "code",
   "execution_count": 5,
   "id": "726d97f3",
   "metadata": {},
   "outputs": [],
   "source": [
    "# Verifique os valores nulos do dataframe de vendas.\n"
   ]
  },
  {
   "cell_type": "code",
   "execution_count": 6,
   "id": "d5eca59f",
   "metadata": {},
   "outputs": [],
   "source": [
    "# Verifique os valores nulos do dataframe de categorias\n"
   ]
  },
  {
   "cell_type": "code",
   "execution_count": 7,
   "id": "2ec10092",
   "metadata": {},
   "outputs": [],
   "source": [
    "# Verifique a estatistica das colunas textuais do dataframe de categorias.\n"
   ]
  },
  {
   "cell_type": "code",
   "execution_count": 8,
   "id": "3a51e726",
   "metadata": {},
   "outputs": [],
   "source": [
    "# Verifique a estatistica das colunas textuais do dataframe de vendas.\n"
   ]
  },
  {
   "cell_type": "code",
   "execution_count": 9,
   "id": "b163a506",
   "metadata": {},
   "outputs": [],
   "source": [
    "# Verifique a estatistica das colunas numéricas do dataframe de vendas.\n"
   ]
  },
  {
   "cell_type": "code",
   "execution_count": 10,
   "id": "76d4bdc3",
   "metadata": {},
   "outputs": [],
   "source": [
    "# Verifique a estatistica das colunas numéricas do dataframe de categorias.\n"
   ]
  },
  {
   "cell_type": "code",
   "execution_count": 11,
   "id": "255ef4c7",
   "metadata": {},
   "outputs": [],
   "source": [
    "# Verifique os valores únicos da coluna 'Categoria' do dataframe de categorias.\n",
    " "
   ]
  },
  {
   "cell_type": "code",
   "execution_count": 12,
   "id": "d1fc7437",
   "metadata": {},
   "outputs": [],
   "source": [
    "# Verifique os valores únicos da coluna 'categoria_produto' do dataframe de vendas.\n"
   ]
  },
  {
   "cell_type": "code",
   "execution_count": 13,
   "id": "45f7f07b",
   "metadata": {},
   "outputs": [],
   "source": [
    "# Verifique os valores únicos da coluna 'nome_vendedor' do dataframe de vendas.\n"
   ]
  },
  {
   "cell_type": "code",
   "execution_count": 14,
   "id": "0ecc9974",
   "metadata": {},
   "outputs": [],
   "source": [
    "# Verifique os valores únicos da coluna 'categoria_produto' do dataframe de vendas.\n"
   ]
  },
  {
   "cell_type": "code",
   "execution_count": 15,
   "id": "7bcf6f08",
   "metadata": {},
   "outputs": [],
   "source": [
    "# Verifique a estatística da categoria do produto por valor de venda.\n"
   ]
  },
  {
   "cell_type": "markdown",
   "id": "4985f79b",
   "metadata": {},
   "source": [
    "### Etapa 5: Análise Gráfica\n",
    "\n",
    "Agora sim, vamos explorar graficamente os dados!"
   ]
  },
  {
   "cell_type": "markdown",
   "id": "1d070aac",
   "metadata": {},
   "source": [
    "##### Plot um Histograma de Distribuição dos Valores de Venda"
   ]
  },
  {
   "cell_type": "code",
   "execution_count": null,
   "id": "bfe99d65",
   "metadata": {},
   "outputs": [],
   "source": []
  },
  {
   "cell_type": "markdown",
   "id": "2ac2c709",
   "metadata": {},
   "source": [
    "##### Plot um Gráfico de barras por marca de produto\n"
   ]
  },
  {
   "cell_type": "code",
   "execution_count": null,
   "id": "6339fa6c",
   "metadata": {},
   "outputs": [],
   "source": [
    "\n"
   ]
  },
  {
   "cell_type": "markdown",
   "id": "6d676105",
   "metadata": {},
   "source": [
    "##### Plot um Boxplot por categoria (para visualizar dispersão dos valores."
   ]
  },
  {
   "cell_type": "code",
   "execution_count": null,
   "id": "5646be58",
   "metadata": {},
   "outputs": [],
   "source": []
  },
  {
   "cell_type": "markdown",
   "id": "a593d003",
   "metadata": {},
   "source": [
    "### Etapa 6: Questões **DESAFIO**\n",
    "🚨 **Desafio 1:** Renomeie a coluna `valor` para `percentual_aumento` e una os dois DataFrames."
   ]
  },
  {
   "cell_type": "code",
   "execution_count": null,
   "id": "1eb71331",
   "metadata": {},
   "outputs": [],
   "source": []
  },
  {
   "cell_type": "markdown",
   "id": "f96ad08d",
   "metadata": {},
   "source": [
    "🚨 **Desafio 2:** Crie uma nova coluna no resultado do ultimo dataframe criado chamada `venda_final` aplicando o percentual de aumento."
   ]
  },
  {
   "cell_type": "code",
   "execution_count": null,
   "id": "394379e2",
   "metadata": {},
   "outputs": [],
   "source": []
  },
  {
   "cell_type": "markdown",
   "id": "73efd7a5",
   "metadata": {},
   "source": [
    "🚨 **Desafio 3:** Faça uma visualização agrupado por `categoria` e gerado um gráfico comparando os valores originais e com aumento."
   ]
  },
  {
   "cell_type": "code",
   "execution_count": null,
   "id": "33fe8514",
   "metadata": {},
   "outputs": [],
   "source": []
  },
  {
   "cell_type": "markdown",
   "id": "aaf48ddc",
   "metadata": {},
   "source": [
    "🚨 **Desafio 4:** Faça uma análise Calculando a comissão de 2,5% para cada vendedor."
   ]
  },
  {
   "cell_type": "code",
   "execution_count": null,
   "id": "a21bf3ba",
   "metadata": {},
   "outputs": [],
   "source": []
  },
  {
   "cell_type": "markdown",
   "id": "e3b9af1e",
   "metadata": {},
   "source": [
    "🚨 **Desafio 5** Gere um gráfico com a comissão dos vendedores, calculados no desafio anterior."
   ]
  },
  {
   "cell_type": "code",
   "execution_count": null,
   "id": "5c4eb3dc",
   "metadata": {},
   "outputs": [],
   "source": []
  },
  {
   "cell_type": "markdown",
   "id": "93620389",
   "metadata": {},
   "source": [
    "🚨 **Desafio 6:** Transforme a coluna `data_venda` em formato de data e crie uma nova coluna `ano` com o ano da venda."
   ]
  },
  {
   "cell_type": "code",
   "execution_count": null,
   "id": "cb4c4f1a",
   "metadata": {},
   "outputs": [],
   "source": []
  },
  {
   "cell_type": "markdown",
   "id": "073a5d2e",
   "metadata": {},
   "source": [
    "🚨 **Desafio 7:** Calcule o total de vendas por ano."
   ]
  },
  {
   "cell_type": "code",
   "execution_count": null,
   "id": "8be2e1a3",
   "metadata": {},
   "outputs": [],
   "source": []
  },
  {
   "cell_type": "markdown",
   "id": "f4e3d051",
   "metadata": {},
   "source": [
    "🚨 **Desafio 8:** Crie um gráfico de pizza com a distribuição percentual de vendas por categorias."
   ]
  },
  {
   "cell_type": "code",
   "execution_count": null,
   "id": "6d60f5d2",
   "metadata": {},
   "outputs": [],
   "source": []
  },
  {
   "cell_type": "markdown",
   "id": "088a7405",
   "metadata": {},
   "source": [
    "🚨 **Desafio 9:** Escreva abaixo ao menos 2 insights baseados nas análises anteriores.\n",
    "\n",
    "---Exemplo:\n",
    "- Qual categoria mais fatura?\n",
    "- Qual vendedor teve a maior comissão?\n",
    "- Houve crescimento ano a ano?"
   ]
  },
  {
   "cell_type": "code",
   "execution_count": null,
   "id": "ee4cbc40",
   "metadata": {},
   "outputs": [],
   "source": [
    "# Escreva seus insights aqui:\n",
    "# 1.\n",
    "# 2."
   ]
  },
  {
   "cell_type": "markdown",
   "id": "1bb7e47e",
   "metadata": {},
   "source": [
    "🚨 **Desafio 10:** Exporte os dados finais de categoria e comissão para arquivos CSV."
   ]
  },
  {
   "cell_type": "code",
   "execution_count": null,
   "id": "a863f54c",
   "metadata": {},
   "outputs": [],
   "source": []
  },
  {
   "cell_type": "markdown",
   "id": "1aa2a1fd",
   "metadata": {},
   "source": [
    "---"
   ]
  },
  {
   "cell_type": "markdown",
   "id": "fb67a6c9",
   "metadata": {},
   "source": [
    "### 🛒 Desafio Extra — Projeto de Vendas com PostgreSQL usando psycopg2 e ipython-sql.\n",
    "\n",
    "Agora que você finalizou a análise dos dados de vendas, chegou o momento de estruturar tudo como um banco de dados relacional real!\n",
    "\n",
    "Neste desafio, você irá:\n",
    "\n",
    "✅ Conectar ao PostgreSQL  \n",
    "✅ Criar as tabelas via SQL  \n",
    "✅ Inserir os dados linha a linha a partir do DataFrame (o dataframe gerado da Venda o qual calculamos a venda com aumento) .\n",
    "✅ Realizar algumas consultas de negócio com SQL puro  \n",
    "\n",
    "---\n",
    "\n",
    "#### 🎯 Objetivo\n",
    "\n",
    "Transformar os dados do seu projeto de vendas em um banco PostgreSQL, criando uma tabela chamada `vendas_final`, contendo as informações abaixo:\n",
    "\n",
    "##### 🧱 Estrutura esperada da tabela `vendas_final`\n",
    "\n",
    "| Campo           | Tipo     | Descrição                            |\n",
    "|-----------------|----------|--------------------------------------|\n",
    "| cod_produto     | texto    | Código identificador do produto      |\n",
    "| nome_produto    | texto    | Nome do produto                      |\n",
    "| categoria       | texto    | Categoria do produto                 |\n",
    "| valor_venda     | numérico | Valor original da venda              |\n",
    "| venda_final     | numérico | Valor com aumento aplicado           |\n",
    "| nome_vendedor   | texto    | Nome do vendedor responsável         |\n",
    "| data_venda      | data     | Data em que ocorreu a venda          |\n",
    "\n",
    "---\n",
    "\n",
    "#### 🔌 Etapa 1 — Conectando ao banco PostgreSQL (Dica)\n",
    "\n",
    "```python\n",
    "import psycopg2\n",
    "\n",
    "try:\n",
    "    conn = psycopg2.connect(\n",
    "        host=\"localhost\",\n",
    "        database=\"aula01\",\n",
    "        user=\"postgres\",\n",
    "        password=\"1234\"\n",
    "    )\n",
    "    print(\"Conexão bem sucedida!\")\n",
    "except Exception as e:\n",
    "    print(\"Erro ao conectar ao banco de dados:\", e)\n",
    "\n",
    "# Criar o cursor\n",
    "crsr = conn.cursor()\n",
    "\n",
    "```\n",
    "#### 🔑 Etapa 2 — Crie as tabelas com SQL com Python;\n",
    "#### 🔎 Etapa 3 - Inserir os dados na tabela apartir do dataframe.\n",
    "#### 📥 Etapa 4 - Realizar algumas consultas de negócio com SQL puro.\n",
    "\n",
    "- Qual foi o total de vendas por categoria?\n",
    "- Quem foram os 3 vendedores que mais venderam?\n",
    "- Qual a média de valor final de venda?\n",
    "\n",
    "\n",
    "#### 📦 Entregáveis do Desafio:\n",
    "\n",
    "✅ Notebook .ipynb com:\n",
    "\n",
    "- Conexão via psycopg2;\n",
    "- Criação da tabela vendas_final;\n",
    "- Inserção linha a linha dos dados;\n",
    "- Banco PostgreSQL populado com os dados corretos;\n",
    "- Execução de 3 consultas SQL obrigatórias;\n",
    "\n",
    "✅ Entrega do Projeto:\n",
    "\n",
    "- Subir o projeto no GITHUB, documentado e me enviar o link do repositório por email.\n",
    "- Ou enviar o projeto por e-mail: nayara.valevskii@gmail.com\n",
    "\n",
    "#### DICA:\n",
    "\n",
    "Aproveite o projeto para o portfólio, documente e post no Linkedin.\n",
    "\n",
    "Boa sorte, galerinhaaa! 🔥\n",
    "\n"
   ]
  }
 ],
 "metadata": {
  "kernelspec": {
   "display_name": "digital",
   "language": "python",
   "name": "python3"
  },
  "language_info": {
   "codemirror_mode": {
    "name": "ipython",
    "version": 3
   },
   "file_extension": ".py",
   "mimetype": "text/x-python",
   "name": "python",
   "nbconvert_exporter": "python",
   "pygments_lexer": "ipython3",
   "version": "3.11.4"
  }
 },
 "nbformat": 4,
 "nbformat_minor": 5
}
